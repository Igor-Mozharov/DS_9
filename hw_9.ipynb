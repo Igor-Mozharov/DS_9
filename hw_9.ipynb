{
 "cells": [
  {
   "cell_type": "code",
   "execution_count": 39,
   "id": "f145effb",
   "metadata": {},
   "outputs": [],
   "source": [
    "import numpy as np\n",
    "from tensorflow import keras\n",
    "from keras.datasets import fashion_mnist\n",
    "from keras.models import Sequential\n",
    "from keras.layers import Dense\n",
    "from keras import losses, metrics, optimizers\n",
    "from keras.utils import to_categorical\n",
    "from keras.layers.regularization import dropout\n",
    "import matplotlib.pyplot as plt"
   ]
  },
  {
   "cell_type": "code",
   "execution_count": 4,
   "id": "1c078d03",
   "metadata": {},
   "outputs": [],
   "source": [
    "num_classes = 10\n",
    "num_features = 784"
   ]
  },
  {
   "cell_type": "code",
   "execution_count": 5,
   "id": "117c514c",
   "metadata": {},
   "outputs": [],
   "source": [
    "(x_train, y_train), (x_test, y_test) = fashion_mnist.load_data()\n",
    "x_train, x_test = np.array(x_train, np.float32), np.array(x_test, np.float32)\n",
    "x_train, x_test = np.reshape(x_train, (-1, num_features)), np.reshape(x_test, (-1, num_features))\n",
    "x_train, x_test = x_train / 255., x_test / 255.\n",
    "y_train = to_categorical(y_train, 10)\n",
    "y_test = to_categorical(y_test, 10)"
   ]
  },
  {
   "cell_type": "code",
   "execution_count": 22,
   "id": "153d89a3",
   "metadata": {},
   "outputs": [
    {
     "name": "stdout",
     "output_type": "stream",
     "text": [
      "Model: \"sequential_5\"\n",
      "_________________________________________________________________\n",
      " Layer (type)                Output Shape              Param #   \n",
      "=================================================================\n",
      " dense_20 (Dense)            (None, 1200)              942000    \n",
      "                                                                 \n",
      " dense_21 (Dense)            (None, 600)               720600    \n",
      "                                                                 \n",
      " dense_22 (Dense)            (None, 256)               153856    \n",
      "                                                                 \n",
      " dense_23 (Dense)            (None, 10)                2570      \n",
      "                                                                 \n",
      "=================================================================\n",
      "Total params: 1,819,026\n",
      "Trainable params: 1,819,026\n",
      "Non-trainable params: 0\n",
      "_________________________________________________________________\n"
     ]
    }
   ],
   "source": [
    "model = Sequential()\n",
    "model.add(Dense(1200, activation='relu', input_shape=(num_features, )))\n",
    "model.add(Dense(600, activation='relu'))\n",
    "model.add(Dense(256, activation='relu'))\n",
    "model.add(Dense(num_classes, activation='softmax'))\n",
    "model.compile(optimizer=optimizers.RMSprop(learning_rate=0.004),\n",
    "              metrics=[metrics.Accuracy()],\n",
    "              loss=losses.binary_crossentropy)\n",
    "model.summary()"
   ]
  },
  {
   "cell_type": "code",
   "execution_count": 29,
   "id": "d522c8da",
   "metadata": {
    "scrolled": false
   },
   "outputs": [
    {
     "name": "stdout",
     "output_type": "stream",
     "text": [
      "Epoch 1/30\n",
      "20/20 [==============================] - 1s 53ms/step - loss: 0.8370 - accuracy: 0.9018 - val_loss: 0.9516 - val_accuracy: 0.8494\n",
      "Epoch 2/30\n",
      "20/20 [==============================] - 1s 50ms/step - loss: 0.0234 - accuracy: 0.8751 - val_loss: 0.9408 - val_accuracy: 0.8491\n",
      "Epoch 3/30\n",
      "20/20 [==============================] - 1s 47ms/step - loss: 0.0189 - accuracy: 0.8810 - val_loss: 1.1082 - val_accuracy: 0.8553\n",
      "Epoch 4/30\n",
      "20/20 [==============================] - 1s 44ms/step - loss: 0.0768 - accuracy: 0.8484 - val_loss: 0.6618 - val_accuracy: 0.8183\n",
      "Epoch 5/30\n",
      "20/20 [==============================] - 1s 45ms/step - loss: 0.0553 - accuracy: 0.8643 - val_loss: 0.7727 - val_accuracy: 0.8118\n",
      "Epoch 6/30\n",
      "20/20 [==============================] - 1s 47ms/step - loss: 0.0133 - accuracy: 0.8739 - val_loss: 0.8128 - val_accuracy: 0.8522\n",
      "Epoch 7/30\n",
      "20/20 [==============================] - 1s 45ms/step - loss: 2.1145 - accuracy: 0.9072 - val_loss: 2.5022 - val_accuracy: 0.9497\n",
      "Epoch 8/30\n",
      "20/20 [==============================] - 1s 46ms/step - loss: 0.0912 - accuracy: 0.9511 - val_loss: 1.5303 - val_accuracy: 0.9137\n",
      "Epoch 9/30\n",
      "20/20 [==============================] - 1s 45ms/step - loss: 0.0141 - accuracy: 0.9303 - val_loss: 1.3853 - val_accuracy: 0.8956\n",
      "Epoch 10/30\n",
      "20/20 [==============================] - 1s 46ms/step - loss: 0.0120 - accuracy: 0.9202 - val_loss: 1.3511 - val_accuracy: 0.8960\n",
      "Epoch 11/30\n",
      "20/20 [==============================] - 1s 54ms/step - loss: 0.1399 - accuracy: 0.8984 - val_loss: 0.9996 - val_accuracy: 0.8581\n",
      "Epoch 12/30\n",
      "20/20 [==============================] - 1s 64ms/step - loss: 0.0130 - accuracy: 0.8935 - val_loss: 0.9524 - val_accuracy: 0.8475\n",
      "Epoch 13/30\n",
      "20/20 [==============================] - 1s 64ms/step - loss: 0.9029 - accuracy: 0.8930 - val_loss: 6.4884 - val_accuracy: 0.9510\n",
      "Epoch 14/30\n",
      "20/20 [==============================] - 1s 64ms/step - loss: 0.4372 - accuracy: 0.9538 - val_loss: 1.6099 - val_accuracy: 0.9088\n",
      "Epoch 15/30\n",
      "20/20 [==============================] - 1s 62ms/step - loss: 0.0138 - accuracy: 0.9269 - val_loss: 1.4898 - val_accuracy: 0.8910\n",
      "Epoch 16/30\n",
      "20/20 [==============================] - 1s 63ms/step - loss: 0.0070 - accuracy: 0.9204 - val_loss: 1.4662 - val_accuracy: 0.8951\n",
      "Epoch 17/30\n",
      "20/20 [==============================] - 1s 62ms/step - loss: 0.0814 - accuracy: 0.8960 - val_loss: 0.9575 - val_accuracy: 0.8105\n",
      "Epoch 18/30\n",
      "20/20 [==============================] - 1s 61ms/step - loss: 0.0383 - accuracy: 0.8718 - val_loss: 1.0916 - val_accuracy: 0.8380\n",
      "Epoch 19/30\n",
      "20/20 [==============================] - 1s 61ms/step - loss: 0.0220 - accuracy: 0.8710 - val_loss: 1.0019 - val_accuracy: 0.8411\n",
      "Epoch 20/30\n",
      "20/20 [==============================] - 1s 63ms/step - loss: 0.2636 - accuracy: 0.8846 - val_loss: 1.7512 - val_accuracy: 0.8811\n",
      "Epoch 21/30\n",
      "20/20 [==============================] - 1s 60ms/step - loss: 0.0368 - accuracy: 0.8776 - val_loss: 0.9560 - val_accuracy: 0.8511\n",
      "Epoch 22/30\n",
      "20/20 [==============================] - 1s 61ms/step - loss: 0.0077 - accuracy: 0.8974 - val_loss: 0.9875 - val_accuracy: 0.8707\n",
      "Epoch 23/30\n",
      "20/20 [==============================] - 1s 62ms/step - loss: 0.3397 - accuracy: 0.8983 - val_loss: 8.5913 - val_accuracy: 0.9319\n",
      "Epoch 24/30\n",
      "20/20 [==============================] - 1s 63ms/step - loss: 1.1841 - accuracy: 0.9537 - val_loss: 1.5284 - val_accuracy: 0.9195\n",
      "Epoch 25/30\n",
      "20/20 [==============================] - 1s 60ms/step - loss: 0.0134 - accuracy: 0.9327 - val_loss: 1.3984 - val_accuracy: 0.8975\n",
      "Epoch 26/30\n",
      "20/20 [==============================] - 1s 60ms/step - loss: 0.0071 - accuracy: 0.9245 - val_loss: 1.3427 - val_accuracy: 0.8938\n",
      "Epoch 27/30\n",
      "20/20 [==============================] - 1s 60ms/step - loss: 1.0119 - accuracy: 0.9171 - val_loss: 3.7256 - val_accuracy: 0.9477\n",
      "Epoch 28/30\n",
      "20/20 [==============================] - 1s 62ms/step - loss: 0.1509 - accuracy: 0.9413 - val_loss: 1.4191 - val_accuracy: 0.8926\n",
      "Epoch 29/30\n",
      "20/20 [==============================] - 1s 60ms/step - loss: 0.0100 - accuracy: 0.9223 - val_loss: 1.3508 - val_accuracy: 0.8888\n",
      "Epoch 30/30\n",
      "20/20 [==============================] - 1s 60ms/step - loss: 0.0080 - accuracy: 0.9229 - val_loss: 1.2858 - val_accuracy: 0.8827\n"
     ]
    }
   ],
   "source": [
    "result = model.fit(x_train, y_train, batch_size=2000, epochs=30, shuffle=False, validation_split=0.34)"
   ]
  },
  {
   "cell_type": "code",
   "execution_count": 30,
   "id": "8f16a11a",
   "metadata": {},
   "outputs": [],
   "source": [
    "viz = result.history"
   ]
  },
  {
   "cell_type": "code",
   "execution_count": 43,
   "id": "bd2b10fd",
   "metadata": {},
   "outputs": [
    {
     "data": {
      "text/plain": [
       "[0.9018131494522095,\n",
       " 0.875148355960846,\n",
       " 0.8810449838638306,\n",
       " 0.8484153747558594,\n",
       " 0.8642591834068298,\n",
       " 0.8739109635353088,\n",
       " 0.9072047472000122,\n",
       " 0.951147735118866,\n",
       " 0.9302810430526733,\n",
       " 0.9202025532722473,\n",
       " 0.8983737230300903,\n",
       " 0.8934998512268066,\n",
       " 0.8930301070213318,\n",
       " 0.9537867307662964,\n",
       " 0.926876962184906,\n",
       " 0.9203894138336182,\n",
       " 0.8959569931030273,\n",
       " 0.8718477487564087,\n",
       " 0.8709689378738403,\n",
       " 0.8845576643943787,\n",
       " 0.877618134021759,\n",
       " 0.897436797618866,\n",
       " 0.8982827663421631,\n",
       " 0.9537437558174133,\n",
       " 0.932728111743927,\n",
       " 0.9245107173919678,\n",
       " 0.9171317219734192,\n",
       " 0.9412838816642761,\n",
       " 0.9222859144210815,\n",
       " 0.9228591918945312]"
      ]
     },
     "execution_count": 43,
     "metadata": {},
     "output_type": "execute_result"
    }
   ],
   "source": [
    "viz['accuracy']"
   ]
  },
  {
   "cell_type": "code",
   "execution_count": null,
   "id": "cf4160c2",
   "metadata": {},
   "outputs": [],
   "source": []
  }
 ],
 "metadata": {
  "kernelspec": {
   "display_name": "Python 3 (ipykernel)",
   "language": "python",
   "name": "python3"
  },
  "language_info": {
   "codemirror_mode": {
    "name": "ipython",
    "version": 3
   },
   "file_extension": ".py",
   "mimetype": "text/x-python",
   "name": "python",
   "nbconvert_exporter": "python",
   "pygments_lexer": "ipython3",
   "version": "3.11.0rc1"
  }
 },
 "nbformat": 4,
 "nbformat_minor": 5
}
